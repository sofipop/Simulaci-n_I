{
  "nbformat": 4,
  "nbformat_minor": 0,
  "metadata": {
    "colab": {
      "provenance": [],
      "authorship_tag": "ABX9TyOdsXNY2BBNc5ieTQnGrIjd",
      "include_colab_link": true
    },
    "kernelspec": {
      "name": "python3",
      "display_name": "Python 3"
    },
    "language_info": {
      "name": "python"
    }
  },
  "cells": [
    {
      "cell_type": "markdown",
      "metadata": {
        "id": "view-in-github",
        "colab_type": "text"
      },
      "source": [
        "<a href=\"https://colab.research.google.com/github/sofipop/Simulaci-n_I/blob/main/NumerosAleatorios.ipynb\" target=\"_parent\"><img src=\"https://colab.research.google.com/assets/colab-badge.svg\" alt=\"Open In Colab\"/></a>"
      ]
    },
    {
      "cell_type": "markdown",
      "source": [
        "\n",
        "\"NUMEROS ALEATORIOS\"\n",
        "1. Generador Congruencial\n"
      ],
      "metadata": {
        "id": "bDNvoG7SXMNy"
      }
    },
    {
      "cell_type": "code",
      "execution_count": 2,
      "metadata": {
        "colab": {
          "base_uri": "https://localhost:8080/"
        },
        "id": "r2AJj6KiV3-4",
        "outputId": "a490ac79-8167-426e-b079-da385788d285"
      },
      "outputs": [
        {
          "output_type": "stream",
          "name": "stdout",
          "text": [
            "17\n"
          ]
        }
      ],
      "source": [
        "a=83%22\n",
        "print(a)\n"
      ]
    },
    {
      "cell_type": "code",
      "source": [
        "import pandas as pd\n",
        "\n",
        "#Función  de la formula del Generador Congruencial\n",
        "def generador(a,c,m,x0):\n",
        "  x=(a*x0+c)%m\n",
        "  Vn=x/m                                       #VALOR NORMALIZADO (Xn/m)\n",
        "  return x,Vn\n",
        "\n",
        "#Valores iniciales\n",
        "a=100\n",
        "c=26\n",
        "m=22\n",
        "x0=3\n",
        "\n",
        "#CICLO PARA N ITERACIONES\n",
        "n_iteraciones = 30\n",
        "x = x0\n",
        "tabla=[ ]\n",
        "for i in range(n_iteraciones):\n",
        "    x, Vn = generador(a, c, m, x)\n",
        "    tabla.append([i+1,x,Vn])\n",
        "    df = pd.DataFrame(tabla, columns=['Iteración', 'x', 'Vn'])\n",
        "print(df)\n",
        "    #print(f\"Iteración {i + 1}: x = {x}\")\n",
        "    #print(f\"Valor Normalizado {i+1}:Vn={Vn}\")"
      ],
      "metadata": {
        "colab": {
          "base_uri": "https://localhost:8080/"
        },
        "id": "9JSvXHs3hOjb",
        "outputId": "053e60ee-9844-4b58-9685-2be2e6f1b104"
      },
      "execution_count": 75,
      "outputs": [
        {
          "output_type": "stream",
          "name": "stdout",
          "text": [
            "    Iteración   x        Vn\n",
            "0           1  18  0.818182\n",
            "1           2   0  0.000000\n",
            "2           3   4  0.181818\n",
            "3           4   8  0.363636\n",
            "4           5  12  0.545455\n",
            "5           6  16  0.727273\n",
            "6           7  20  0.909091\n",
            "7           8   2  0.090909\n",
            "8           9   6  0.272727\n",
            "9          10  10  0.454545\n",
            "10         11  14  0.636364\n",
            "11         12  18  0.818182\n",
            "12         13   0  0.000000\n",
            "13         14   4  0.181818\n",
            "14         15   8  0.363636\n",
            "15         16  12  0.545455\n",
            "16         17  16  0.727273\n",
            "17         18  20  0.909091\n",
            "18         19   2  0.090909\n",
            "19         20   6  0.272727\n",
            "20         21  10  0.454545\n",
            "21         22  14  0.636364\n",
            "22         23  18  0.818182\n",
            "23         24   0  0.000000\n",
            "24         25   4  0.181818\n",
            "25         26   8  0.363636\n",
            "26         27  12  0.545455\n",
            "27         28  16  0.727273\n",
            "28         29  20  0.909091\n",
            "29         30   2  0.090909\n"
          ]
        }
      ]
    }
  ]
}