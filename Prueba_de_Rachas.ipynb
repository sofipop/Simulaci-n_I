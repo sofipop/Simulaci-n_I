{
  "nbformat": 4,
  "nbformat_minor": 0,
  "metadata": {
    "colab": {
      "provenance": [],
      "authorship_tag": "ABX9TyNW9lYG2Re1gn4DZFbYVsWX",
      "include_colab_link": true
    },
    "kernelspec": {
      "name": "python3",
      "display_name": "Python 3"
    },
    "language_info": {
      "name": "python"
    }
  },
  "cells": [
    {
      "cell_type": "markdown",
      "metadata": {
        "id": "view-in-github",
        "colab_type": "text"
      },
      "source": [
        "<a href=\"https://colab.research.google.com/github/sofipop/Simulaci-n_I/blob/main/Prueba_de_Rachas.ipynb\" target=\"_parent\"><img src=\"https://colab.research.google.com/assets/colab-badge.svg\" alt=\"Open In Colab\"/></a>"
      ]
    },
    {
      "cell_type": "markdown",
      "source": [
        "#PRUEBA DE RACHAS"
      ],
      "metadata": {
        "id": "tHvP5ynCzEjA"
      }
    },
    {
      "cell_type": "markdown",
      "source": [
        "Es una prueba estadística no paramétrica utilizada para evaluar si una secuencia de valores es aleatoria o si presenta patrones que indiquen dependencia.\n",
        "\n",
        "\n",
        "##Concepto de \"Racha\"\n",
        "\n",
        "Una racha es una serie consecutiva de valores de la misma categoría. En el contexto de números aleatorios, normalmente se dividen en valores altos (1) y valores bajos (0) con respecto a la mediana de los datos."
      ],
      "metadata": {
        "id": "msppNN1xzKft"
      }
    },
    {
      "cell_type": "code",
      "execution_count": 1,
      "metadata": {
        "colab": {
          "base_uri": "https://localhost:8080/"
        },
        "id": "iq5bt1u2yK2t",
        "outputId": "4a9b84d8-8375-488a-84b7-a918a108b312"
      },
      "outputs": [
        {
          "output_type": "stream",
          "name": "stdout",
          "text": [
            "Rachas observadas: 14\n",
            "Media esperada: 16.0\n",
            "Desviación estándar: 2.6909811055347133\n",
            "Z0: -0.7432233529572065\n",
            "Intervalo de aceptación: (np.float64(-1.959963984540054), np.float64(1.959963984540054))\n",
            "Resultado: No se rechaza H0 (los números parecen independientes)\n"
          ]
        }
      ],
      "source": [
        "\n",
        "import numpy as np\n",
        "import scipy.stats as stats\n",
        "\n",
        "def prueba_rachas(numeros):\n",
        "    # Paso 1: Convertir los números a 0s y 1s según si son mayores o menores a la mediana\n",
        "    mediana = np.median(numeros)\n",
        "    secuencia = np.where(numeros >= mediana, 1, 0)\n",
        "\n",
        "    # Paso 2: Contar el número de rachas (cambios entre 0 y 1)\n",
        "    rachas = 1  # Se inicia con la primera racha\n",
        "    for i in range(1, len(secuencia)):\n",
        "        if secuencia[i] != secuencia[i-1]:\n",
        "            rachas += 1\n",
        "\n",
        "    # Paso 3: Calcular los valores esperados y la desviación estándar\n",
        "    n1 = np.sum(secuencia)  # Cantidad de unos\n",
        "    n2 = len(secuencia) - n1  # Cantidad de ceros\n",
        "    n = n1 + n2  # Longitud de la secuencia\n",
        "\n",
        "    if n1 == 0 or n2 == 0:  # Si hay solo unos o ceros, no hay rachas\n",
        "        return \"No se puede aplicar la prueba (solo hay un tipo de número en la secuencia)\"\n",
        "\n",
        "    mu = (2 * n1 * n2) / n + 1  # Valor esperado de rachas\n",
        "    sigma = np.sqrt((2 * n1 * n2 * (2 * n1 * n2 - n)) / (n**2 * (n - 1)))  # Desviación estándar\n",
        "\n",
        "    # Paso 4: Calcular el estadístico de prueba\n",
        "    Z0 = (rachas - mu) / sigma\n",
        "\n",
        "    # Intervalo de aceptación para α = 0.05 (95% de confianza)\n",
        "    Z_critico = stats.norm.ppf(0.975)  # Valor crítico para una prueba bilateral\n",
        "\n",
        "    # Evaluar si está en el intervalo de aceptación\n",
        "    if -Z_critico <= Z0 <= Z_critico:\n",
        "        resultado = \"No se rechaza H0 (los números parecen independientes)\"\n",
        "    else:\n",
        "        resultado = \"Se rechaza H0 (los números no son independientes)\"\n",
        "\n",
        "    return {\n",
        "        \"Rachas observadas\": rachas,\n",
        "        \"Media esperada\": mu,\n",
        "        \"Desviación estándar\": sigma,\n",
        "        \"Z0\": Z0,\n",
        "        \"Intervalo de aceptación\": (-Z_critico, Z_critico),\n",
        "        \"Resultado\": resultado\n",
        "    }\n",
        "\n",
        "# Ejemplo de uso\n",
        "numeros_aleatorios = np.random.rand(30)  # Generar 30 números aleatorios entre 0 y 1\n",
        "resultado = prueba_rachas(numeros_aleatorios)\n",
        "\n",
        "for clave, valor in resultado.items():\n",
        "    print(f\"{clave}: {valor}\")"
      ]
    }
  ]
}