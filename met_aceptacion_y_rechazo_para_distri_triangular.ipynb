{
  "nbformat": 4,
  "nbformat_minor": 0,
  "metadata": {
    "colab": {
      "provenance": [],
      "authorship_tag": "ABX9TyP4jhOBeUfEBmLUckcuifMV",
      "include_colab_link": true
    },
    "kernelspec": {
      "name": "python3",
      "display_name": "Python 3"
    },
    "language_info": {
      "name": "python"
    }
  },
  "cells": [
    {
      "cell_type": "markdown",
      "metadata": {
        "id": "view-in-github",
        "colab_type": "text"
      },
      "source": [
        "<a href=\"https://colab.research.google.com/github/sofipop/Simulaci-n_I/blob/main/met_aceptacion_y_rechazo_para_distri_triangular.ipynb\" target=\"_parent\"><img src=\"https://colab.research.google.com/assets/colab-badge.svg\" alt=\"Open In Colab\"/></a>"
      ]
    },
    {
      "cell_type": "markdown",
      "source": [
        "##Méetodo de Aceptación y Rechazo para la Distribución Triangular\n",
        "El método permite generar muestras aleatorias a partir de funciones de densidad que no tienen una forma inversible simple. En este caso con la función de densidad triangular y se utiliza una función envolvente uniforme para aceptar o rechazar los valores generados aleatoriamente.\n"
      ],
      "metadata": {
        "id": "ZiToqJ8WAXx-"
      }
    },
    {
      "cell_type": "markdown",
      "source": [
        "##1.1 Importación de librerias\n",
        "- random para generar numeros aleatorios\n",
        "- numpy para operaciones numericas\n",
        "- matplotlib.pyplot para graficar"
      ],
      "metadata": {
        "id": "XHJBYT7wEEvd"
      }
    },
    {
      "cell_type": "code",
      "source": [
        "import random as rd\n",
        "import numpy as np\n",
        "import matplotlib.pyplot as plt"
      ],
      "metadata": {
        "id": "L5CNtw1FmRX0"
      },
      "execution_count": 63,
      "outputs": []
    },
    {
      "cell_type": "markdown",
      "source": [
        "##1.2 Parámetros\n",
        "- a y c son los límites inferior y superior\n",
        "- b muestra donde esta el pico\n",
        "- M el valor máximo de la función de densidad\n"
      ],
      "metadata": {
        "id": "OMhTuc3TEdcl"
      }
    },
    {
      "cell_type": "code",
      "source": [
        "a=1\n",
        "b=3\n",
        "c=5\n",
        "M=(2)/(c-a)"
      ],
      "metadata": {
        "id": "YQYyRVaNmYBi"
      },
      "execution_count": 64,
      "outputs": []
    },
    {
      "cell_type": "markdown",
      "source": [
        "##1.3 Función de densidad triangular\n",
        "- Para x entre a y b, la función sube linealmente\n",
        "- Para x entre b y c, la función baja linealmente\n",
        "- Fuera del intervalo [a,c] la función vale 0\n"
      ],
      "metadata": {
        "id": "dk6KA56pE7oD"
      }
    },
    {
      "cell_type": "code",
      "execution_count": 66,
      "metadata": {
        "id": "NSM7kn6MmMZv"
      },
      "outputs": [],
      "source": [
        "#Haciendo la triangular\n",
        "def f(x):\n",
        "  if a <= x <= b:\n",
        "    return 2 * (x - a) / ((b - a) * (c - a))\n",
        "  elif b < x <= c:\n",
        "    return 2 * (c - x) / ((c - b) * (c - a))\n",
        "  else:\n",
        "    return 0"
      ]
    },
    {
      "cell_type": "markdown",
      "source": [
        "##1.4 Método de aceptación y rechazo\n",
        "- n es el número de muestras deseadas\n",
        "- Se generan pares (x,y) aleatorios\n",
        "- Si $y<=f(x)$, se acepta x como muestra válida"
      ],
      "metadata": {
        "id": "WAh2uwReFj1K"
      }
    },
    {
      "cell_type": "code",
      "source": [
        "def aceptacion (n):\n",
        "  muestras=[]\n",
        "  while len(muestras)<n:\n",
        "    R1=rd.random()\n",
        "    R2=rd.random()\n",
        "    x=a+((c-a)*R1)\n",
        "    y=M*R2\n",
        "    if y<=f(x):\n",
        "      muestras.append(x)\n",
        "  return muestras"
      ],
      "metadata": {
        "id": "N9UwJNJmmi5h"
      },
      "execution_count": 67,
      "outputs": []
    },
    {
      "cell_type": "markdown",
      "source": [
        "##1.5 Generar los datos\n"
      ],
      "metadata": {
        "id": "lk7qw_oOF8aI"
      }
    },
    {
      "cell_type": "code",
      "source": [
        "muestras=aceptacion(10000)"
      ],
      "metadata": {
        "id": "6keP7VktnSkf"
      },
      "execution_count": 68,
      "outputs": []
    },
    {
      "cell_type": "markdown",
      "source": [
        "##1.6 Cálculos estadísticos\n"
      ],
      "metadata": {
        "id": "ZFd2HvimGOA2"
      }
    },
    {
      "cell_type": "code",
      "source": [
        "print(\"Desviación estandar\",np.std(muestras))\n",
        "print(\"Media\",np.mean(muestras))\n",
        "#COMPARACION CON LOS RESULTADOS TEORICOS\n",
        "media_t=(a+b+c)/3\n",
        "desv_est_t=np.sqrt(((a**2)+(b**2)+(c**2)-(a*b)-(a*c)-(b*c))/18)\n",
        "print(\"Media teorica: \",media_t)\n",
        "print(\"Desviacion estandar teorico: \",desv_est_t)"
      ],
      "metadata": {
        "colab": {
          "base_uri": "https://localhost:8080/"
        },
        "id": "tL9Nius2motJ",
        "outputId": "1e449cba-7290-4c91-8ffa-cfded6f77f05"
      },
      "execution_count": 75,
      "outputs": [
        {
          "output_type": "stream",
          "name": "stdout",
          "text": [
            "Desviación estandar 0.8192939099086061\n",
            "Media 2.998616985292746\n",
            "Media teorica:  3.0\n",
            "Desviacion estandar teorico:  0.816496580927726\n"
          ]
        }
      ]
    },
    {
      "cell_type": "markdown",
      "source": [
        "##1.7 Grafica\n",
        "Se grafica el histograma y la curva teórica para verificar visualmente que los datos siguen la distribución deseada"
      ],
      "metadata": {
        "id": "jC7jWL6BH8om"
      }
    },
    {
      "cell_type": "code",
      "source": [
        "plt.hist(muestras, bins=50, density=True, alpha=0.6, label=\"Muestras\")\n",
        "\n",
        "# Curva teórica\n",
        "x_vals = np.linspace(a, c, 500)\n",
        "y_vals = [f(x) for x in x_vals]\n",
        "plt.plot(x_vals, y_vals, 'r-', label=\"Distribución teórica\")\n",
        "\n",
        "plt.title(\"Distribución Triangular\")\n",
        "plt.legend()\n",
        "plt.show()\n"
      ],
      "metadata": {
        "colab": {
          "base_uri": "https://localhost:8080/",
          "height": 453
        },
        "id": "ouu85-BCm-Ru",
        "outputId": "8efca30b-e2a1-439f-b05e-cb398b7891bb"
      },
      "execution_count": 73,
      "outputs": [
        {
          "output_type": "display_data",
          "data": {
            "text/plain": [
              "<Figure size 640x480 with 1 Axes>"
            ],
            "image/png": "[encoded data removed]"
          },
          "metadata": {}
        }
      ]
    },
    {
      "cell_type": "markdown",
      "source": [
        "##1.8 Conclusión\n",
        "A traves del método de aceptación y rechazo, se logró generar una muestra aleatoria que sigue una distribución triangular definida por los parámetros a=1,b=3 y c=5.\n",
        "Demuestra la efectividad del método para simular distribuciones no triviales."
      ],
      "metadata": {
        "id": "Pt-lb_EUIP_N"
      }
    }
  ]
}