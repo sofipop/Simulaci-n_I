{
  "nbformat": 4,
  "nbformat_minor": 0,
  "metadata": {
    "colab": {
      "provenance": [],
      "authorship_tag": "ABX9TyPLs6TCGiypkKhE5BUdUBoq",
      "include_colab_link": true
    },
    "kernelspec": {
      "name": "python3",
      "display_name": "Python 3"
    },
    "language_info": {
      "name": "python"
    }
  },
  "cells": [
    {
      "cell_type": "markdown",
      "metadata": {
        "id": "view-in-github",
        "colab_type": "text"
      },
      "source": [
        "<a href=\"https://colab.research.google.com/github/sofipop/Simulaci-n_I/blob/main/Metodo_Box_Muller.ipynb\" target=\"_parent\"><img src=\"https://colab.research.google.com/assets/colab-badge.svg\" alt=\"Open In Colab\"/></a>"
      ]
    },
    {
      "cell_type": "markdown",
      "source": [
        "#Método de Box-Muller\n",
        "Este método genera números aleatorios con distribución normal estandar; es decir $μ=0$ y $\\sigma=1$, a partir de números aleatorios distribuidos uniformemente en (0,1).\n",
        "La idea es utilizar dos variables uniformes $U_1$ y $U_2$ para generar dos varibales normales estandar independientes $Z_1$ y $Z_2$ mediante la transformación:\n",
        "- $$Z_1=[\\sqrt(-2*ln(U_1))]*cos(2*pi*U_2)$$\n",
        "- $$Z_1=[\\sqrt(-2*ln(U_1))]*sin(2*pi*U_2)$$"
      ],
      "metadata": {
        "id": "nKN7yTpCzJwf"
      }
    },
    {
      "cell_type": "markdown",
      "source": [
        "###1.1 Librerías\n",
        "- numpy nos servira para arreglos numericos y funciones matemáticas\n",
        "- matplotlib.pyplot nos servira para crear los gráficos"
      ],
      "metadata": {
        "id": "eL17_AcS4MKq"
      }
    },
    {
      "cell_type": "code",
      "execution_count": 17,
      "metadata": {
        "id": "uvGKLI9irfeB"
      },
      "outputs": [],
      "source": [
        "import numpy as np\n",
        "import matplotlib.pyplot as plt"
      ]
    },
    {
      "cell_type": "markdown",
      "source": [
        "###1.2 Función Box-Muller\n",
        "La función recibe un parámetro n, que sera el nuemro de valores normales estándar a generar"
      ],
      "metadata": {
        "id": "izTKftJe7Xr0"
      }
    },
    {
      "cell_type": "code",
      "source": [
        "def box_muller(n):\n",
        "  u1=np.random.rand(n//2)\n",
        "  u2=np.random.rand(n//2)\n",
        "  z1=np.sqrt(-2*np.log(u1))*np.cos(2*np.pi*u2)\n",
        "  z2=np.sqrt(-2*np.log(u1))*np.sin(2*np.pi*u2)\n",
        "  z=np.append(z1,z2)\n",
        "  return z"
      ],
      "metadata": {
        "id": "NL1CzQFh7sz1"
      },
      "execution_count": 18,
      "outputs": []
    },
    {
      "cell_type": "markdown",
      "source": [
        "1.3 Número de muestras\n"
      ],
      "metadata": {
        "id": "LOAdq63Z82pu"
      }
    },
    {
      "cell_type": "code",
      "source": [
        "n=1000000"
      ],
      "metadata": {
        "id": "t-m5LECP89b3"
      },
      "execution_count": 36,
      "outputs": []
    },
    {
      "cell_type": "code",
      "source": [
        "datos=box_muller(n)"
      ],
      "metadata": {
        "id": "3kTGEomN9FAB"
      },
      "execution_count": 37,
      "outputs": []
    },
    {
      "cell_type": "markdown",
      "source": [
        "###1.4 Media y desviación estándar\n",
        "Necesitamos que los valores empíricos sean iguales a los teóricos ($μ=0$ y $\\sigma=1$)."
      ],
      "metadata": {
        "id": "ekbSJcCW9Cpg"
      }
    },
    {
      "cell_type": "code",
      "source": [
        "#Calculos en base a los datos generados\n",
        "media_e=np.mean(datos)\n",
        "desv_e=np.std(datos)"
      ],
      "metadata": {
        "id": "B2qw6Nml-f9e"
      },
      "execution_count": 38,
      "outputs": []
    },
    {
      "cell_type": "code",
      "source": [
        "#Valores teóricos\n",
        "media_t=0\n",
        "desv_t=1"
      ],
      "metadata": {
        "id": "6vJifZbK-u9O"
      },
      "execution_count": 39,
      "outputs": []
    },
    {
      "cell_type": "code",
      "source": [
        "print(\"Media empírica: \",media_e) #\n",
        "print(\"Desviación empírica: \",desv_e)\n",
        "print(\"Media teórica: \",media_t)\n",
        "print(\"Desviación teórica: \",desv_t)"
      ],
      "metadata": {
        "colab": {
          "base_uri": "https://localhost:8080/"
        },
        "id": "Jar7UzyB-4DC",
        "outputId": "349bb4a2-bb97-4c68-f22b-6a9d60c90c41"
      },
      "execution_count": 40,
      "outputs": [
        {
          "output_type": "stream",
          "name": "stdout",
          "text": [
            "Media empírica:  0.0009773500479898542\n",
            "Desviación empírica:  0.9993966191728673\n",
            "Media teórica:  0\n",
            "Desviación teórica:  1\n"
          ]
        }
      ]
    },
    {
      "cell_type": "markdown",
      "source": [
        "###1.5 Histograma\n"
      ],
      "metadata": {
        "id": "ji3xf7eeAMLF"
      }
    },
    {
      "cell_type": "code",
      "source": [
        "plt.hist(datos,bins=100,density=True)\n",
        "plt.show()"
      ],
      "metadata": {
        "colab": {
          "base_uri": "https://localhost:8080/",
          "height": 430
        },
        "id": "CY_GeDTKALv3",
        "outputId": "adb56aa0-68d1-445d-9c1b-02bd8305ec5f"
      },
      "execution_count": 47,
      "outputs": [
        {
          "output_type": "display_data",
          "data": {
            "text/plain": [
              "<Figure size 640x480 with 1 Axes>"
            ],
            "image/png": "[encoded data removed]"
          },
          "metadata": {}
        }
      ]
    }
  ]
}