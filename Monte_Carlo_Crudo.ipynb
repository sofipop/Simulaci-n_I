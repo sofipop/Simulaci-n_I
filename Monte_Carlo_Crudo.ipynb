{
  "nbformat": 4,
  "nbformat_minor": 0,
  "metadata": {
    "colab": {
      "provenance": [],
      "authorship_tag": "ABX9TyNsdQiEPGhMQQK4F5YTXzTB",
      "include_colab_link": true
    },
    "kernelspec": {
      "name": "python3",
      "display_name": "Python 3"
    },
    "language_info": {
      "name": "python"
    }
  },
  "cells": [
    {
      "cell_type": "markdown",
      "metadata": {
        "id": "view-in-github",
        "colab_type": "text"
      },
      "source": [
        "<a href=\"https://colab.research.google.com/github/sofipop/Simulaci-n_I/blob/main/Monte_Carlo_Crudo.ipynb\" target=\"_parent\"><img src=\"https://colab.research.google.com/assets/colab-badge.svg\" alt=\"Open In Colab\"/></a>"
      ]
    },
    {
      "cell_type": "markdown",
      "source": [
        "#MONTE CARLO CRUDO"
      ],
      "metadata": {
        "id": "lKDqEMoZsyu8"
      }
    },
    {
      "cell_type": "markdown",
      "source": [
        "El método de Monte Carlo permite estimar integrales mediante muestreo aleatorio.  \n",
        "Queremos calcular la integral:\n",
        "\n",
        "$$ I = \\int_a^b g(x)dx $$\n",
        "\n",
        "Podemos interpretarla como un valor esperado:\n",
        "\n",
        "$$ I = (b - a) \\mathbb{E}[g(X)] $$\n",
        "\n",
        "donde [X] es una variable aleatoria con distribución uniforme en [a, b].  \n",
        "La estimación de Monte Carlo se obtiene con:\n",
        "\n",
        "$$ I \\approx (b - a) \\frac{1}{N} \\sum_{i=1}^{N} g(X_i) $$"
      ],
      "metadata": {
        "id": "YkN-GzWVv5Ea"
      }
    },
    {
      "cell_type": "code",
      "source": [
        "import numpy as np"
      ],
      "metadata": {
        "id": "3WF-9VLBsxuQ"
      },
      "execution_count": 7,
      "outputs": []
    },
    {
      "cell_type": "code",
      "execution_count": 8,
      "metadata": {
        "colab": {
          "base_uri": "https://localhost:8080/"
        },
        "id": "ZKre3Ndxsf5k",
        "outputId": "bb67a9e9-d28a-4e77-e57a-9d235a51b514"
      },
      "outputs": [
        {
          "output_type": "stream",
          "name": "stdout",
          "text": [
            "Estimación de la integral: 0.629737\n",
            "Error estándar de la estimación: 0.000649\n"
          ]
        }
      ],
      "source": [
        "#Definimos la función a integrar\n",
        "def f(x):\n",
        "    return np.sqrt(np.arctan(x))\n",
        "\n",
        "#límites de integración\n",
        "a=0\n",
        "b=1\n",
        "\n",
        "#Número de muestras\n",
        "N=100000\n",
        "\n",
        "#N valores aleatorios distribuidos en [a, b]\n",
        "x_samples=np.random.uniform(a, b, N)\n",
        "\n",
        "#Evaluamos la función en los puntos generados\n",
        "f_values=f(x_samples)\n",
        "\n",
        "#integral con el método de Monte Carlo\n",
        "integral_estimate=(b - a)*(np.mean(f_values))\n",
        "\n",
        "#error estándar\n",
        "error = (b - a) * np.std(f_values) / np.sqrt(N)\n",
        "\n",
        "print(f\"Estimación de la integral: {integral_estimate:.6f}\")\n",
        "print(f\"Error estándar de la estimación: {error:.6f}\")"
      ]
    },
    {
      "cell_type": "markdown",
      "source": [
        "Este método es eficiente para funciones difíciles de integrar analíticamente. Puedes aumentar  para mejorar la precisión de la estimación."
      ],
      "metadata": {
        "id": "dxU7Xqpkwjd3"
      }
    }
  ]
}