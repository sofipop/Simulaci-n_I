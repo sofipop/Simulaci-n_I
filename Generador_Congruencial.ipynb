{
  "nbformat": 4,
  "nbformat_minor": 0,
  "metadata": {
    "colab": {
      "provenance": [],
      "authorship_tag": "ABX9TyORMsSGxr5cJHG78lv7axdY",
      "include_colab_link": true
    },
    "kernelspec": {
      "name": "python3",
      "display_name": "Python 3"
    },
    "language_info": {
      "name": "python"
    }
  },
  "cells": [
    {
      "cell_type": "markdown",
      "metadata": {
        "id": "view-in-github",
        "colab_type": "text"
      },
      "source": [
        "<a href=\"https://colab.research.google.com/github/sofipop/Simulaci-n_I/blob/main/Generador_Congruencial.ipynb\" target=\"_parent\"><img src=\"https://colab.research.google.com/assets/colab-badge.svg\" alt=\"Open In Colab\"/></a>"
      ]
    },
    {
      "cell_type": "markdown",
      "source": [
        "#GENERADOR CONGRUENCIAL\n",
        "Es uno de los algoritmos más antiguos y ampliamente utilizados para generar números aleatorios. Se basa en una ecuación matemática que genera una secuencia de números al aplicar sucesivas operaciones"
      ],
      "metadata": {
        "id": "SOBsziT9livR"
      }
    },
    {
      "cell_type": "code",
      "execution_count": 3,
      "metadata": {
        "id": "Kc5wRXyYkakn"
      },
      "outputs": [],
      "source": [
        "#Importación de las librerías\n",
        "import tabulate as tb\n",
        "import pandas as pd"
      ]
    },
    {
      "cell_type": "markdown",
      "source": [
        "Necesitamos primero definir la Funcion X_{(n+1)}, dar los valores iniciales de A, C, m y el X_{0}"
      ],
      "metadata": {
        "id": "RVa10aqRlfUL"
      }
    },
    {
      "cell_type": "code",
      "source": [
        "# Función de la fórmula del Generador Congruencial\n",
        "def generador(a, c, m, x0):\n",
        "    x = (a * x0 + c) % m\n",
        "    Vn = x / m  # VALOR NORMALIZADO (Xn/m)\n",
        "    return x, Vn\n",
        "\n",
        "# Valores iniciales con formato Markdown\n",
        "a = 21\n",
        "c = 15\n",
        "m = 31\n",
        "x0 = 21\n",
        "\n",
        "# CICLO PARA N ITERACIONES\n",
        "n_iteraciones = 35\n",
        "x = x0\n",
        "tabla = []\n",
        "valores_vistos = set()  # Usamos un conjunto para rastrear los valores que hemos visto\n",
        "repeticion_encontrada = False\n",
        "iteraciones_hasta_repeticion = 0\n",
        "\n",
        "for i in range(n_iteraciones):\n",
        "    x, Vn = generador(a, c, m, x)\n",
        "    tabla.append([i + 1, x, Vn])\n",
        "\n",
        "    # Comprobar si el valor de x ya ha aparecido antes\n",
        "    if x in valores_vistos:\n",
        "        repeticion_encontrada = True\n",
        "        iteraciones_hasta_repeticion = i + 1  # La iteración donde se repitió\n",
        "        break\n",
        "    else:\n",
        "        valores_vistos.add(x)  # Agregar el valor de x al conjunto de valores vistos\n",
        "\n",
        "# Crear un DataFrame con pandas\n",
        "df = pd.DataFrame(tabla, columns=['Iteración', 'x', 'Vn'])\n",
        "\n",
        "# Usar la librería tabulate para generar la tabla\n",
        "tabla_formateada = tb.tabulate(df, headers='keys', tablefmt=\"grid\")\n",
        "\n",
        "# Mostrar la tabla formateada\n",
        "print(tabla_formateada)\n",
        "\n",
        "# Mostrar el resultado de las iteraciones hasta que se repitió la secuencia\n",
        "if repeticion_encontrada:\n",
        "    print(f\"\\nCiclo de vida : {iteraciones_hasta_repeticion} iteraciones.\")\n",
        "else:\n",
        "    print(\"\\nNo se encontró repetición dentro del número de iteraciones especificado.\")\n"
      ],
      "metadata": {
        "colab": {
          "base_uri": "https://localhost:8080/"
        },
        "id": "PSN-qOL6jqxL",
        "outputId": "f128a9bd-97c9-4ba6-8f2e-b004404224fb"
      },
      "execution_count": 14,
      "outputs": [
        {
          "output_type": "stream",
          "name": "stdout",
          "text": [
            "+----+-------------+-----+-----------+\n",
            "|    |   Iteración |   x |        Vn |\n",
            "+====+=============+=====+===========+\n",
            "|  0 |           1 |  22 | 0.709677  |\n",
            "+----+-------------+-----+-----------+\n",
            "|  1 |           2 |  12 | 0.387097  |\n",
            "+----+-------------+-----+-----------+\n",
            "|  2 |           3 |  19 | 0.612903  |\n",
            "+----+-------------+-----+-----------+\n",
            "|  3 |           4 |  11 | 0.354839  |\n",
            "+----+-------------+-----+-----------+\n",
            "|  4 |           5 |  29 | 0.935484  |\n",
            "+----+-------------+-----+-----------+\n",
            "|  5 |           6 |   4 | 0.129032  |\n",
            "+----+-------------+-----+-----------+\n",
            "|  6 |           7 |   6 | 0.193548  |\n",
            "+----+-------------+-----+-----------+\n",
            "|  7 |           8 |  17 | 0.548387  |\n",
            "+----+-------------+-----+-----------+\n",
            "|  8 |           9 |   0 | 0         |\n",
            "+----+-------------+-----+-----------+\n",
            "|  9 |          10 |  15 | 0.483871  |\n",
            "+----+-------------+-----+-----------+\n",
            "| 10 |          11 |  20 | 0.645161  |\n",
            "+----+-------------+-----+-----------+\n",
            "| 11 |          12 |   1 | 0.0322581 |\n",
            "+----+-------------+-----+-----------+\n",
            "| 12 |          13 |   5 | 0.16129   |\n",
            "+----+-------------+-----+-----------+\n",
            "| 13 |          14 |  27 | 0.870968  |\n",
            "+----+-------------+-----+-----------+\n",
            "| 14 |          15 |  24 | 0.774194  |\n",
            "+----+-------------+-----+-----------+\n",
            "| 15 |          16 |  23 | 0.741935  |\n",
            "+----+-------------+-----+-----------+\n",
            "| 16 |          17 |   2 | 0.0645161 |\n",
            "+----+-------------+-----+-----------+\n",
            "| 17 |          18 |  26 | 0.83871   |\n",
            "+----+-------------+-----+-----------+\n",
            "| 18 |          19 |   3 | 0.0967742 |\n",
            "+----+-------------+-----+-----------+\n",
            "| 19 |          20 |  16 | 0.516129  |\n",
            "+----+-------------+-----+-----------+\n",
            "| 20 |          21 |  10 | 0.322581  |\n",
            "+----+-------------+-----+-----------+\n",
            "| 21 |          22 |   8 | 0.258065  |\n",
            "+----+-------------+-----+-----------+\n",
            "| 22 |          23 |  28 | 0.903226  |\n",
            "+----+-------------+-----+-----------+\n",
            "| 23 |          24 |  14 | 0.451613  |\n",
            "+----+-------------+-----+-----------+\n",
            "| 24 |          25 |  30 | 0.967742  |\n",
            "+----+-------------+-----+-----------+\n",
            "| 25 |          26 |  25 | 0.806452  |\n",
            "+----+-------------+-----+-----------+\n",
            "| 26 |          27 |  13 | 0.419355  |\n",
            "+----+-------------+-----+-----------+\n",
            "| 27 |          28 |   9 | 0.290323  |\n",
            "+----+-------------+-----+-----------+\n",
            "| 28 |          29 |  18 | 0.580645  |\n",
            "+----+-------------+-----+-----------+\n",
            "| 29 |          30 |  21 | 0.677419  |\n",
            "+----+-------------+-----+-----------+\n",
            "| 30 |          31 |  22 | 0.709677  |\n",
            "+----+-------------+-----+-----------+\n",
            "\n",
            "Ciclo de vida : 31 iteraciones.\n"
          ]
        }
      ]
    }
  ]
}