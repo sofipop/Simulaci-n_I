{
  "cells": [
    {
      "cell_type": "markdown",
      "metadata": {
        "id": "view-in-github",
        "colab_type": "text"
      },
      "source": [
        "<a href=\"https://colab.research.google.com/github/sofipop/Simulaci-n_I/blob/main/tablero_de_colores.ipynb\" target=\"_parent\"><img src=\"https://colab.research.google.com/assets/colab-badge.svg\" alt=\"Open In Colab\"/></a>"
      ]
    },
    {
      "cell_type": "markdown",
      "source": [
        "#Tablero de Colores"
      ],
      "metadata": {
        "id": "ISe4p6Vbagok"
      },
      "id": "ISe4p6Vbagok"
    },
    {
      "cell_type": "markdown",
      "source": [
        "**OBJETIVO 1:** Simular el movimiento sobre un tablero circular de 4 sectores/colores:\n",
        "- Al lanzar dos monedas, se avanza en sentido horario:\n",
        "    - 0 caras: avanzar 0 sectores\n",
        "    - 1 cara: avanzar 1 sector\n",
        "    - 2 caras: avanzar 2 sectores\n"
      ],
      "metadata": {
        "id": "ncs7xTHSatBy"
      },
      "id": "ncs7xTHSatBy"
    },
    {
      "cell_type": "markdown",
      "source": [
        "**OBJETIVO 2:**  Responder:\n",
        "- ¿Son todos los sectores igual de probables cuando pasa mucho tiempo?"
      ],
      "metadata": {
        "id": "nl7A2vEIrN_1"
      },
      "id": "nl7A2vEIrN_1"
    },
    {
      "cell_type": "markdown",
      "source": [
        "## 1. Variables."
      ],
      "metadata": {
        "id": "2e6E0FXTbqge"
      },
      "id": "2e6E0FXTbqge"
    },
    {
      "cell_type": "markdown",
      "source": [
        "- S = 0, 1, 2, 3 (representando los sectores)\n",
        "- Número de caras en dos monedas: {0 ,1 ,2}"
      ],
      "metadata": {
        "id": "hPE2G81Ubv3o"
      },
      "id": "hPE2G81Ubv3o"
    },
    {
      "cell_type": "code",
      "execution_count": null,
      "id": "551c5d5a",
      "metadata": {
        "id": "551c5d5a"
      },
      "outputs": [],
      "source": [
        "estados = [0, 1, 2, 3]\n",
        "estado_actual = 0\n",
        "visitas = [0, 0, 0, 0]"
      ]
    },
    {
      "cell_type": "markdown",
      "source": [
        "##2. Distribución de probabilidad"
      ],
      "metadata": {
        "id": "iMVSyqfIcXKr"
      },
      "id": "iMVSyqfIcXKr"
    },
    {
      "cell_type": "markdown",
      "source": [
        "P(0 caras)= 1/4\n",
        "P(1 cara)= 1/2\n",
        "P(2 caras)= 1/4"
      ],
      "metadata": {
        "id": "e5kge_uCi3_y"
      },
      "id": "e5kge_uCi3_y"
    },
    {
      "cell_type": "code",
      "execution_count": 16,
      "id": "c6bd6886",
      "metadata": {
        "id": "c6bd6886"
      },
      "outputs": [],
      "source": [
        "valores_caras = [0, 1, 2]\n",
        "probabilidades = [0.25, 0.5, 0.25]"
      ]
    },
    {
      "cell_type": "markdown",
      "source": [
        "##3. Modelar las variables aleatorias\n"
      ],
      "metadata": {
        "id": "bIJZkLerjbJV"
      },
      "id": "bIJZkLerjbJV"
    },
    {
      "cell_type": "markdown",
      "source": [
        "simulamos un paso"
      ],
      "metadata": {
        "id": "GEsZGOAfjjYm"
      },
      "id": "GEsZGOAfjjYm"
    },
    {
      "cell_type": "code",
      "execution_count": 17,
      "id": "08fedb52",
      "metadata": {
        "id": "08fedb52"
      },
      "outputs": [],
      "source": [
        "import numpy as np"
      ]
    },
    {
      "cell_type": "code",
      "execution_count": 21,
      "id": "f2790833",
      "metadata": {
        "colab": {
          "base_uri": "https://localhost:8080/"
        },
        "id": "f2790833",
        "outputId": "378da3f5-156a-4317-84f9-2906f6ae2e98"
      },
      "outputs": [
        {
          "output_type": "stream",
          "name": "stdout",
          "text": [
            "Número de caras obtenidas: 0\n"
          ]
        }
      ],
      "source": [
        "# Simular una tirada\n",
        "caras = np.random.choice(valores_caras, p=probabilidades)\n",
        "print(f\"Número de caras obtenidas: {caras}\")"
      ]
    },
    {
      "cell_type": "markdown",
      "source": [
        "##4. Modelo del sistema y objetivo"
      ],
      "metadata": {
        "id": "gYKuRfI2jtHw"
      },
      "id": "gYKuRfI2jtHw"
    },
    {
      "cell_type": "markdown",
      "source": [
        "- Cada paso: avanzar n sectores/colores(4), según el número de caras.\n",
        "- Se intenta estimar la probabilidad límite de estar en cada sector"
      ],
      "metadata": {
        "id": "qnKgcoSvj1Tc"
      },
      "id": "qnKgcoSvj1Tc"
    },
    {
      "cell_type": "code",
      "execution_count": 22,
      "id": "c18759e1",
      "metadata": {
        "id": "c18759e1"
      },
      "outputs": [],
      "source": [
        "def avanzar(estado_actual, caras):\n",
        "    return (estado_actual + caras) % 4"
      ]
    },
    {
      "cell_type": "markdown",
      "source": [
        "##5. Diseñar el experimento"
      ],
      "metadata": {
        "id": "OQAge5fnkvwo"
      },
      "id": "OQAge5fnkvwo"
    },
    {
      "cell_type": "markdown",
      "source": [
        "Se simulan muchos pasos (100,000)"
      ],
      "metadata": {
        "id": "gNgDXV9jk6Uv"
      },
      "id": "gNgDXV9jk6Uv"
    },
    {
      "cell_type": "code",
      "execution_count": 23,
      "id": "d464db2b",
      "metadata": {
        "id": "d464db2b"
      },
      "outputs": [],
      "source": [
        "n = 100000  # número de pasos"
      ]
    },
    {
      "cell_type": "markdown",
      "source": [
        "##6. Repetir el experimento m veces"
      ],
      "metadata": {
        "id": "FlEJv7rXk-lQ"
      },
      "id": "FlEJv7rXk-lQ"
    },
    {
      "cell_type": "code",
      "execution_count": 24,
      "id": "fe7802e4",
      "metadata": {
        "id": "fe7802e4"
      },
      "outputs": [],
      "source": [
        "for _ in range(n):\n",
        "    visitas[estado_actual] += 1\n",
        "    caras = np.random.choice(valores_caras, p=probabilidades)\n",
        "    estado_actual = avanzar(estado_actual, caras)"
      ]
    },
    {
      "cell_type": "code",
      "execution_count": 25,
      "id": "0cad96ea",
      "metadata": {
        "colab": {
          "base_uri": "https://localhost:8080/"
        },
        "id": "0cad96ea",
        "outputId": "a028cd36-81b5-411f-bf97-e146ed5d8c17"
      },
      "outputs": [
        {
          "output_type": "stream",
          "name": "stdout",
          "text": [
            "Probabilidades estimadas por sector: [0.5009  0.50031 0.49803 0.50076]\n"
          ]
        }
      ],
      "source": [
        "visitas = np.array(visitas)\n",
        "probs_estimadas = visitas / n\n",
        "print(\"Probabilidades estimadas por sector:\", probs_estimadas)"
      ]
    },
    {
      "cell_type": "markdown",
      "source": [
        "##7. Histograma"
      ],
      "metadata": {
        "id": "0VYWCTIHlUky"
      },
      "id": "0VYWCTIHlUky"
    },
    {
      "cell_type": "code",
      "execution_count": 26,
      "id": "b608b6ab",
      "metadata": {
        "id": "b608b6ab"
      },
      "outputs": [],
      "source": [
        "## Paso 7: Obtener el histograma\n",
        "import matplotlib.pyplot as plt"
      ]
    },
    {
      "cell_type": "code",
      "execution_count": 43,
      "id": "3940af41",
      "metadata": {
        "id": "3940af41"
      },
      "outputs": [],
      "source": [
        "colores = ['red', 'green', 'skyblue', 'orange']\n",
        "nombres_sectores = ['Sector 0', 'Sector 1', 'Sector 2', 'Sector 3']"
      ]
    },
    {
      "cell_type": "code",
      "execution_count": 44,
      "id": "b980b636",
      "metadata": {
        "colab": {
          "base_uri": "https://localhost:8080/",
          "height": 452
        },
        "id": "b980b636",
        "outputId": "0445546b-3170-4401-d1d5-ec4b8b17bc4e"
      },
      "outputs": [
        {
          "output_type": "display_data",
          "data": {
            "text/plain": [
              "<Figure size 640x480 with 1 Axes>"
            ],
            "image/png": "[encoded data removed]"
          },
          "metadata": {}
        }
      ],
      "source": [
        "plt.bar(nombres_sectores, probs_estimadas, color=colores, edgecolor='black')\n",
        "plt.title('Frecuencia estimada por sector')\n",
        "plt.ylabel('Probabilidad')\n",
        "plt.ylim(0, 0.3)\n",
        "plt.axhline(0.25, color='black', linestyle='--', label='Probabilidad teórica (1/4)')\n",
        "plt.legend()\n",
        "plt.show()"
      ]
    },
    {
      "cell_type": "markdown",
      "source": [
        "##SOLUCION ANALITICA"
      ],
      "metadata": {
        "id": "Ep_RHDqsnK8L"
      },
      "id": "Ep_RHDqsnK8L"
    },
    {
      "cell_type": "code",
      "source": [
        "P=np.array([[0.25,0.5,0.25,0],[0,0.25,0.5,0.25],[0.25,0,0.25,0.5],[0.5,0.25,0,0.25]])"
      ],
      "metadata": {
        "id": "94v-aQMdnNua"
      },
      "id": "94v-aQMdnNua",
      "execution_count": 36,
      "outputs": []
    },
    {
      "cell_type": "code",
      "source": [
        "A=P.T-np.eye(4)\n",
        "A=np.vstack((A,np.ones(4)))\n",
        "b=np.array([0,0,0,0,1])\n",
        "pi=np.linalg.lstsq(A,b,rcond=None)[0]"
      ],
      "metadata": {
        "id": "oA6VyD7BnomW"
      },
      "id": "oA6VyD7BnomW",
      "execution_count": 37,
      "outputs": []
    },
    {
      "cell_type": "markdown",
      "source": [
        "##Comparación gráfica"
      ],
      "metadata": {
        "id": "vrpoGUX2oE8z"
      },
      "id": "vrpoGUX2oE8z"
    },
    {
      "cell_type": "code",
      "source": [
        "x=np.arange(4)\n",
        "width=0.35\n",
        "nombres=['Sector 0',' Sector 1',' Sector 2',' Sector 3']"
      ],
      "metadata": {
        "id": "T13UwE3FoBTM"
      },
      "id": "T13UwE3FoBTM",
      "execution_count": 38,
      "outputs": []
    },
    {
      "cell_type": "code",
      "source": [
        "plt.bar(x-width/2,probs_simuladas,width,label='simulacion',color='skyblue')\n",
        "plt.bar(x+width/2,pi,width,label='analítica', color='red')\n",
        "plt.xticks(x,nombres)\n",
        "plt.ylabel('Probabilidad')\n",
        "plt.legend()\n",
        "plt.show()"
      ],
      "metadata": {
        "colab": {
          "base_uri": "https://localhost:8080/",
          "height": 430
        },
        "id": "_prsF_pIoamZ",
        "outputId": "b042d44d-5b6b-4afd-a20c-b5b241b78ed8"
      },
      "id": "_prsF_pIoamZ",
      "execution_count": 46,
      "outputs": [
        {
          "output_type": "display_data",
          "data": {
            "text/plain": [
              "<Figure size 640x480 with 1 Axes>"
            ],
            "image/png": "[encoded data removed]"
          },
          "metadata": {}
        }
      ]
    },
    {
      "cell_type": "markdown",
      "source": [
        "##Conclusión\n"
      ],
      "metadata": {
        "id": "KfaCXm-Mpm_d"
      },
      "id": "KfaCXm-Mpm_d"
    },
    {
      "cell_type": "markdown",
      "source": [
        "**¿Son todos los sectores igual de probables cuando pasa mucho tiempo?**\n",
        "**R=** SÍ. Todos los sectores (0,1,2,3) son igualmente probables a largo plazo\n"
      ],
      "metadata": {
        "id": "zFwHKNsjpsfc"
      },
      "id": "zFwHKNsjpsfc"
    },
    {
      "cell_type": "markdown",
      "source": [
        "¿Por qué? despues de muchos turnos el jugador tiene la misma probabilidad (25%) de estar en cualquiera de los 4 sectores. Esto es por la estructura del movimiento y a que el tablero es simétrico y es cerrado.\n",
        "En la simulación esto se confirma cuanso los 100000 pasos dan muy cerca de 0.25 cada uno."
      ],
      "metadata": {
        "id": "Aueujz73qHht"
      },
      "id": "Aueujz73qHht"
    }
  ],
  "metadata": {
    "colab": {
      "provenance": [],
      "include_colab_link": true
    },
    "language_info": {
      "name": "python"
    },
    "kernelspec": {
      "name": "python3",
      "display_name": "Python 3"
    }
  },
  "nbformat": 4,
  "nbformat_minor": 5
}