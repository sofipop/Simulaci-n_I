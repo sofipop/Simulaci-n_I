{
  "nbformat": 4,
  "nbformat_minor": 0,
  "metadata": {
    "colab": {
      "provenance": [],
      "authorship_tag": "ABX9TyPfHsu/Xr3j35b50pIzHmkG",
      "include_colab_link": true
    },
    "kernelspec": {
      "name": "python3",
      "display_name": "Python 3"
    },
    "language_info": {
      "name": "python"
    }
  },
  "cells": [
    {
      "cell_type": "markdown",
      "metadata": {
        "id": "view-in-github",
        "colab_type": "text"
      },
      "source": [
        "<a href=\"https://colab.research.google.com/github/sofipop/Simulaci-n_I/blob/main/Met_transformada_inversa.ipynb\" target=\"_parent\"><img src=\"https://colab.research.google.com/assets/colab-badge.svg\" alt=\"Open In Colab\"/></a>"
      ]
    },
    {
      "cell_type": "markdown",
      "source": [
        "#Método de la Transformada Inversa\n",
        "Este método va a generar una muestra aleatoria de la distribución triangular"
      ],
      "metadata": {
        "id": "2AIYEbVh33o4"
      }
    },
    {
      "cell_type": "markdown",
      "source": [
        "##1.1 Librerías\n",
        "- numpy para operaciones matemáticas\n",
        "- matplotlib.pyplot para graficar el histograma\n",
        "- random para generar los numeros aleatorios"
      ],
      "metadata": {
        "id": "jHlX7WS2-sXt"
      }
    },
    {
      "cell_type": "code",
      "source": [
        "import numpy as np\n",
        "import matplotlib.pyplot as plt\n",
        "import random as rd"
      ],
      "metadata": {
        "id": "iuGv2cPA_Y-a"
      },
      "execution_count": 14,
      "outputs": []
    },
    {
      "cell_type": "markdown",
      "source": [
        "##1.2 Parámetros\n",
        "- a y c inicio y final del intervalo\n",
        "- b es la moda"
      ],
      "metadata": {
        "id": "7g6hCwZw_mQb"
      }
    },
    {
      "cell_type": "code",
      "source": [
        "# Parámetros de la distribución\n",
        "a = 1\n",
        "b = 3\n",
        "c = 5\n",
        "N=10000"
      ],
      "metadata": {
        "id": "S1SEp3Mh_598"
      },
      "execution_count": 15,
      "outputs": []
    },
    {
      "cell_type": "markdown",
      "source": [
        "##1.3 Función de la Transformada inversa\n",
        "Transforma los numeros aleatorios u entre [0,1] en datos que siguen la distribución triangular usando la transformada inversa.\n",
        "- F_b: es el valor en b\n",
        "- np.where: aplica una fórmula distinta si $u<F_b$ o si $u>=F_b$"
      ],
      "metadata": {
        "id": "2pyvuhOVABdm"
      }
    },
    {
      "cell_type": "code",
      "source": [
        "# Método de la transformada inversa para distribución triangular\n",
        "def inversa_triang(u, a, b, c):\n",
        "  F_b = (b - a) / (c - a)\n",
        "  x = np.where(u < F_b,\n",
        "                a + np.sqrt(u * (b - a) * (c - a)),\n",
        "                c - np.sqrt((1 - u) * (c - b) * (c - a)))\n",
        "  return x"
      ],
      "metadata": {
        "id": "Lvt8aHj5CV4l"
      },
      "execution_count": 16,
      "outputs": []
    },
    {
      "cell_type": "markdown",
      "source": [
        "##1.4 Funcion de densidad"
      ],
      "metadata": {
        "id": "8aKy6sm4Cdbc"
      }
    },
    {
      "cell_type": "code",
      "source": [
        "def densidad(x,a,b,c):\n",
        "  f=np.zeros_like(x)\n",
        "  for i,xi in enumerate(x):\n",
        "    if a<=xi<=b:\n",
        "      f[i]=2*(xi-a)/((b-a)*(c-a))\n",
        "    elif b<xi<=c:\n",
        "      f[i]=2*(c-xi)/((c-b)*(c-a))\n",
        "  return f"
      ],
      "metadata": {
        "id": "X_zrLnm0DrJL"
      },
      "execution_count": 17,
      "outputs": []
    },
    {
      "cell_type": "markdown",
      "source": [
        "##1.5 Generar la muestra aletoria\n",
        "- n es para generar un cierto numero de numeros aleatorios\n",
        "- inversa_triang() va a transformar los valores de n a datos distribuidos triangularmente"
      ],
      "metadata": {
        "id": "CeJdrzutFciG"
      }
    },
    {
      "cell_type": "code",
      "source": [
        "u=np.random.rand(N)\n",
        "muestra=inversa_triang(u,a,b,c)"
      ],
      "metadata": {
        "id": "EGhVeHcTF1vM"
      },
      "execution_count": 18,
      "outputs": []
    },
    {
      "cell_type": "markdown",
      "source": [
        "##1.6 Estadísticos\n",
        "valores de la media y la desviacion estandar"
      ],
      "metadata": {
        "id": "HbYztvM1GLIG"
      }
    },
    {
      "cell_type": "code",
      "source": [
        "# Cálculos teóricos\n",
        "media_teorica = (a + b + c) / 3\n",
        "desv_teorica = np.sqrt(((a**2)+(b**2)+(c**2)-(a*b)-(a*c)-(b*c)) / 18)\n",
        "# Cálculos de la muestra\n",
        "media_muestra = np.mean(muestra)\n",
        "desv_muestra = np.std(muestra)\n",
        "# Resultados\n",
        "print(\"Media teórica:       \", media_teorica)\n",
        "print(\"Media de la muestra: \", media_muestra)\n",
        "print(\"Desviación teórica:  \", desv_teorica)\n",
        "print(\"Desviación muestra:  \", desv_muestra)"
      ],
      "metadata": {
        "colab": {
          "base_uri": "https://localhost:8080/"
        },
        "id": "W4RXyep-Gc_x",
        "outputId": "2388bce2-9540-47bf-e54a-0928982b1928"
      },
      "execution_count": 19,
      "outputs": [
        {
          "output_type": "stream",
          "name": "stdout",
          "text": [
            "Media teórica:        3.0\n",
            "Media de la muestra:  3.002326603402698\n",
            "Desviación teórica:   0.816496580927726\n",
            "Desviación muestra:   0.8188635352274506\n"
          ]
        }
      ]
    },
    {
      "cell_type": "markdown",
      "source": [
        "##1.7 Histograma"
      ],
      "metadata": {
        "id": "j_OgGHC-G68n"
      }
    },
    {
      "cell_type": "code",
      "source": [
        "plt.hist(muestra, bins=50)\n",
        "plt.show()"
      ],
      "metadata": {
        "colab": {
          "base_uri": "https://localhost:8080/",
          "height": 430
        },
        "id": "LpQUyPosHCFV",
        "outputId": "b7cccffd-5c34-4684-a915-0cef9af0cd79"
      },
      "execution_count": 20,
      "outputs": [
        {
          "output_type": "display_data",
          "data": {
            "text/plain": [
              "<Figure size 640x480 with 1 Axes>"
            ],
            "image/png": "[encoded data removed]"
          },
          "metadata": {}
        }
      ]
    }
  ]
}