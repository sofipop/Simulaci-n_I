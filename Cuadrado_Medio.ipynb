{
  "nbformat": 4,
  "nbformat_minor": 0,
  "metadata": {
    "colab": {
      "provenance": [],
      "authorship_tag": "ABX9TyMc4jJq5L0V08Iibwd1Lfz9",
      "include_colab_link": true
    },
    "kernelspec": {
      "name": "python3",
      "display_name": "Python 3"
    },
    "language_info": {
      "name": "python"
    }
  },
  "cells": [
    {
      "cell_type": "markdown",
      "metadata": {
        "id": "view-in-github",
        "colab_type": "text"
      },
      "source": [
        "<a href=\"https://colab.research.google.com/github/sofipop/Simulaci-n_I/blob/main/Cuadrado_Medio.ipynb\" target=\"_parent\"><img src=\"https://colab.research.google.com/assets/colab-badge.svg\" alt=\"Open In Colab\"/></a>"
      ]
    },
    {
      "cell_type": "markdown",
      "source": [
        "#**CUADRADO MEDIO**\n",
        "\n",
        "Es un algoritmo utilizado para generar números aleatorios en computadoras. Es un método de generación de números pseudo-aleatorios, que significa que aunque los números generados parecen aleatorios, en realidad son determinados por una fórmula matemática y dependen de un valor inicial llamado semilla."
      ],
      "metadata": {
        "id": "L5Uos1ZvB6Sb"
      }
    },
    {
      "cell_type": "code",
      "source": [
        "from tabulate import tabulate"
      ],
      "metadata": {
        "id": "4BgqjJOTDRrt"
      },
      "execution_count": 7,
      "outputs": []
    },
    {
      "cell_type": "markdown",
      "source": [
        "##Explicación del método:\n",
        "- Se elige una semilla inicia de al menos 4 dígitos\n",
        "- Se eleva la semilla al cuadrado: (X_0)²\n",
        "- Se extraen los 4 digitos centrales del resultado para obtener el siguiente número\n"
      ],
      "metadata": {
        "id": "hyTiSnNkQ6n3"
      }
    },
    {
      "cell_type": "code",
      "source": [
        "#Creamos la funcion con los pasos a seguir:\n",
        "def cuadrado_medio(semilla, iteraciones):\n",
        "    n = len(str(semilla)) # Determinar el número de dígitos de la semilla\n",
        "    resultados = []\n",
        "\n",
        "    for i in range(iteraciones):\n",
        "        cuadrado = str(semilla ** 2).zfill(2 * n) # Elevar al cuadrado y rellenar con ceros si es necesario\n",
        "        mitad = len(cuadrado) // 2\n",
        "        nuevo_numero = int(cuadrado[mitad - n // 2: mitad + n // 2]) # Esta operación extrae los 4 dígitos centrales\n",
        "        random_number = nuevo_numero / (10 ** n) # Normalizar\n",
        "\n",
        "        resultados.append([i + 1, semilla, cuadrado, nuevo_numero, round(random_number, 4)])\n",
        "        semilla = nuevo_numero # Actualizar la semilla\n",
        "\n",
        "    #Mostrar la tabla con la librería tabulate\n",
        "    print(tabulate(resultados, headers=[\"Iteración\", \"Semilla (X_0)\", \"Cuadrado\", \"Nuevo Número aleatorio\", \"Valor Normalizado\"], tablefmt=\"grid\"))\n",
        "\n",
        "#Solicitar datos al usuario\n",
        "semilla_inicial = int(input(\"Introduce una semilla (mínimo 4 dígitos): \"))\n",
        "iteraciones = int(input(\"Introduce el número de iteraciones: \"))\n",
        "\n",
        "#Ejecutar la función para imprimir la tabla\n",
        "cuadrado_medio(semilla_inicial, iteraciones)"
      ],
      "metadata": {
        "colab": {
          "base_uri": "https://localhost:8080/"
        },
        "id": "8Tq8QvvxIg8a",
        "outputId": "416f38a5-f668-4608-c191-081ab64708eb"
      },
      "execution_count": 14,
      "outputs": [
        {
          "output_type": "stream",
          "name": "stdout",
          "text": [
            "Introduce una semilla (mínimo 4 dígitos): 1234\n",
            "Introduce el número de iteraciones: 5\n",
            "+-------------+-----------------+------------+--------------------------+---------------------+\n",
            "|   Iteración |   Semilla (X_0) |   Cuadrado |   Nuevo Número aleatorio |   Valor Normalizado |\n",
            "+=============+=================+============+==========================+=====================+\n",
            "|           1 |            1234 |   01522756 |                     5227 |              0.5227 |\n",
            "+-------------+-----------------+------------+--------------------------+---------------------+\n",
            "|           2 |            5227 |   27321529 |                     3215 |              0.3215 |\n",
            "+-------------+-----------------+------------+--------------------------+---------------------+\n",
            "|           3 |            3215 |   10336225 |                     3362 |              0.3362 |\n",
            "+-------------+-----------------+------------+--------------------------+---------------------+\n",
            "|           4 |            3362 |   11303044 |                     3030 |              0.303  |\n",
            "+-------------+-----------------+------------+--------------------------+---------------------+\n",
            "|           5 |            3030 |   09180900 |                     1809 |              0.1809 |\n",
            "+-------------+-----------------+------------+--------------------------+---------------------+\n"
          ]
        }
      ]
    },
    {
      "cell_type": "markdown",
      "source": [
        "Finalmemte podemos decir que los numeros aleatorios serán los que aparecen en la columna \"Nuevo número aleatorio\" imcluyendo la Semilla inicial"
      ],
      "metadata": {
        "id": "sGUfZBJRTNUS"
      }
    }
  ]
}