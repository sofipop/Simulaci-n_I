{
  "nbformat": 4,
  "nbformat_minor": 0,
  "metadata": {
    "colab": {
      "provenance": [],
      "authorship_tag": "ABX9TyMM9PO22AZ26eta91+rN2RY",
      "include_colab_link": true
    },
    "kernelspec": {
      "name": "python3",
      "display_name": "Python 3"
    },
    "language_info": {
      "name": "python"
    }
  },
  "cells": [
    {
      "cell_type": "markdown",
      "metadata": {
        "id": "view-in-github",
        "colab_type": "text"
      },
      "source": [
        "<a href=\"https://colab.research.google.com/github/sofipop/Simulaci-n_I/blob/main/Soluci%C3%B3n_Problema_1.ipynb\" target=\"_parent\"><img src=\"https://colab.research.google.com/assets/colab-badge.svg\" alt=\"Open In Colab\"/></a>"
      ]
    },
    {
      "cell_type": "markdown",
      "source": [
        "#Solución de Problema"
      ],
      "metadata": {
        "id": "2UOq_t8soeJR"
      }
    },
    {
      "cell_type": "markdown",
      "source": [
        "Dos personas han quedado en una cita en un determinado lugar. Ambas tienen la misma probabilidad de llegar al lugar de la cita en el intervalo de tiempo $[0,30](mn)$. Determinese la probabilidad de que el tiempo que una persona espere a la otra sea como máximo 10 minutos."
      ],
      "metadata": {
        "id": "cW5JweTqo45p"
      }
    },
    {
      "cell_type": "markdown",
      "source": [
        "##Definición de variables"
      ],
      "metadata": {
        "id": "_MmzZLkZyoMI"
      }
    },
    {
      "cell_type": "code",
      "execution_count": 1,
      "metadata": {
        "id": "OGI_FZcIlIHg"
      },
      "outputs": [],
      "source": [
        "import random\n",
        "import matplotlib.pyplot as plt\n",
        "#X: tiempo de llegada Persona1\n",
        "#Y: tiempo de llegada Persona2\n",
        "#D=|X - Y|: diferencia entre tiempos de llegada"
      ]
    },
    {
      "cell_type": "markdown",
      "source": [
        "##Distribución de probabilidad"
      ],
      "metadata": {
        "id": "xLuDb0WH0Vva"
      }
    },
    {
      "cell_type": "code",
      "source": [
        "#X~Uniforme(0, 30)\n",
        "#Y~Uniforme(0, 30)"
      ],
      "metadata": {
        "id": "9MV1gY8T0dp9"
      },
      "execution_count": 3,
      "outputs": []
    },
    {
      "cell_type": "markdown",
      "source": [
        "##Modelación de variables aleatorias y diseño del experimento"
      ],
      "metadata": {
        "id": "cmDKqlEe0kin"
      }
    },
    {
      "cell_type": "markdown",
      "source": [
        "En esta parte agrupamos los pasos de la metodologia 3, 4, 5 y 6"
      ],
      "metadata": {
        "id": "bsbNU1Nm1Dmq"
      }
    },
    {
      "cell_type": "code",
      "source": [
        "n = 100000\n",
        "exitos = 0\n",
        "diferencias = []\n",
        "for _ in range(n):\n",
        "    x = random.uniform(0, 30)\n",
        "    y = random.uniform(0, 30)\n",
        "    d = abs(x - y)\n",
        "    diferencias.append(d)\n",
        "    if d <= 10:\n",
        "        exitos += 1\n",
        "\n",
        "# Probabilidad simulada\n",
        "prob_simulada = exitos / n"
      ],
      "metadata": {
        "id": "yNEBFw0-1UO0"
      },
      "execution_count": 4,
      "outputs": []
    },
    {
      "cell_type": "markdown",
      "source": [
        "##Solución Aalítica"
      ],
      "metadata": {
        "id": "2umFaJwE1r8X"
      }
    },
    {
      "cell_type": "code",
      "source": [
        "#P(|X - Y| <= 10) = 5/9 ≈ 0.5556\n",
        "prob_analitica = 5 / 9\n",
        "\n",
        "print(f\"Resultado analítico: {prob_analitica:.4f}\")\n",
        "print(f\"Resultado por simulación: {prob_simulada:.4f}\")\n",
        "print(f\"Error relativo: {abs(prob_simulada - prob_analitica) / prob_analitica * 100:.2f}%\")\n"
      ],
      "metadata": {
        "colab": {
          "base_uri": "https://localhost:8080/"
        },
        "id": "Kd6E4oe51wlK",
        "outputId": "af903b72-4e60-4029-e29b-e89a896092da"
      },
      "execution_count": 5,
      "outputs": [
        {
          "output_type": "stream",
          "name": "stdout",
          "text": [
            "Resultado analítico: 0.5556\n",
            "Resultado por simulación: 0.5566\n",
            "Error relativo: 0.18%\n"
          ]
        }
      ]
    },
    {
      "cell_type": "markdown",
      "source": [
        "##Histograma"
      ],
      "metadata": {
        "id": "fTkL2XcQ1_zo"
      }
    },
    {
      "cell_type": "code",
      "source": [
        "plt.hist(diferencias, bins=40, color='red')\n",
        "plt.axvline(10, color='purple', linestyle='--', label='Límite de 10 minutos')\n",
        "plt.title(\"diferencia de tiempos de llegada\")\n",
        "plt.xlabel(\"diferencia en minutos\")\n",
        "plt.legend()\n",
        "plt.grid(True)\n",
        "plt.show()"
      ],
      "metadata": {
        "colab": {
          "base_uri": "https://localhost:8080/",
          "height": 472
        },
        "id": "2mf_cvYy2FLQ",
        "outputId": "3e5e26bf-50ab-4677-f3a2-98ec6d407a07"
      },
      "execution_count": 13,
      "outputs": [
        {
          "output_type": "display_data",
          "data": {
            "text/plain": [
              "<Figure size 640x480 with 1 Axes>"
            ],
            "image/png": "[encoded data removed]"
          },
          "metadata": {}
        }
      ]
    }
  ]
}