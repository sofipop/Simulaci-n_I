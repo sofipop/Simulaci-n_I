{
  "nbformat": 4,
  "nbformat_minor": 0,
  "metadata": {
    "colab": {
      "provenance": [],
      "authorship_tag": "ABX9TyPTSUDPgbZmbK6TkIgivU7c",
      "include_colab_link": true
    },
    "kernelspec": {
      "name": "python3",
      "display_name": "Python 3"
    },
    "language_info": {
      "name": "python"
    }
  },
  "cells": [
    {
      "cell_type": "markdown",
      "metadata": {
        "id": "view-in-github",
        "colab_type": "text"
      },
      "source": [
        "<a href=\"https://colab.research.google.com/github/sofipop/Simulaci-n_I/blob/main/met_12_uniformes.ipynb\" target=\"_parent\"><img src=\"https://colab.research.google.com/assets/colab-badge.svg\" alt=\"Open In Colab\"/></a>"
      ]
    },
    {
      "cell_type": "markdown",
      "source": [
        "#Método de las 12 Uniformes\n",
        "Este método consiste 12 variables aleatorias uniformes, sumarlas y restar 6 para obtener una variable con dsitribución aproximadamente normal estándar, luego se escala a la desviación y media deseadas"
      ],
      "metadata": {
        "id": "iNG6zf_QIzk6"
      }
    },
    {
      "cell_type": "markdown",
      "source": [
        "##1.1 librerías\n"
      ],
      "metadata": {
        "id": "40zGggvHRUX7"
      }
    },
    {
      "cell_type": "code",
      "execution_count": 2,
      "metadata": {
        "id": "2UH3xKHeIqmH"
      },
      "outputs": [],
      "source": [
        "import numpy as np\n",
        "import matplotlib.pyplot as plt"
      ]
    },
    {
      "cell_type": "markdown",
      "source": [
        "##1.2 Parámetros\n"
      ],
      "metadata": {
        "id": "ldlqx9bsRfmA"
      }
    },
    {
      "cell_type": "code",
      "source": [
        "#parámetros teóricos\n",
        "media_t=10\n",
        "desviacion_t=2\n",
        "varianza_t=desviacion_t**2"
      ],
      "metadata": {
        "id": "GtvKAZuoRqk3"
      },
      "execution_count": 7,
      "outputs": []
    },
    {
      "cell_type": "markdown",
      "source": [
        "##1.3 Números aleatorios uniformes\n",
        "Se genera una matriz de tamaño (10000,12) con números aleatorios uniformes entre 0 y 1. Cada fila representa un conjunto de 12 uniformes"
      ],
      "metadata": {
        "id": "tnwsBHv4R99D"
      }
    },
    {
      "cell_type": "code",
      "source": [
        "n_muestras=10000 #numero de muestras\n",
        "uniformes=np.random.uniform(0,1, size=(n_muestras,12))"
      ],
      "metadata": {
        "id": "TmjlEVtJS1Dh"
      },
      "execution_count": 10,
      "outputs": []
    },
    {
      "cell_type": "markdown",
      "source": [
        "##1.4 Método de las 12 uniformes\n",
        "- Paso 1: sumamos las 12 uniformes por fila\n",
        "- Paso 2: Le restamos 6\n",
        "- Paso 3: Ahora normales_estardar tiene media=0 y desv_estandar=1."
      ],
      "metadata": {
        "id": "kPpM-zxaTuvi"
      }
    },
    {
      "cell_type": "code",
      "source": [
        "suma_uniformes=np.sum(uniformes, axis=1)\n",
        "normales_estandar=suma_uniformes-6"
      ],
      "metadata": {
        "id": "TbDDoHyOUcjY"
      },
      "execution_count": 11,
      "outputs": []
    },
    {
      "cell_type": "markdown",
      "source": [
        "##1.5 Transformar a la distribución deseada\n",
        "Esta es la fórmula para transformar una normal estardar en una normal con media y desviación deseadas:\n",
        "$$X=\\mu+\\sigma*Z$$\n",
        "donde $Z\\sim N(0,1)$"
      ],
      "metadata": {
        "id": "XbjiLejiVAje"
      }
    },
    {
      "cell_type": "code",
      "source": [
        "normales=media_t+desviacion_t*normales_estandar"
      ],
      "metadata": {
        "id": "koumuhUsXpOl"
      },
      "execution_count": 12,
      "outputs": []
    },
    {
      "cell_type": "markdown",
      "source": [
        "##1.6 Estadísticos\n",
        "Calculamos la media y la desviación estandar de los datos generados y los comparamos con los resultados teóricos\n",
        "\n"
      ],
      "metadata": {
        "id": "re-Ww8SCXzK1"
      }
    },
    {
      "cell_type": "code",
      "source": [
        "media_muestral=np.mean(normales)\n",
        "desviacion_muestral=np.std(normales)\n",
        "print(\"media teórica:        \",media_t)\n",
        "print(\"desviación teórica:   \",desviacion_t)\n",
        "print(\"media muestral:       \",round(media_muestral,4))\n",
        "print(\"desviación muestral:  \",round(desviacion_muestral,4))"
      ],
      "metadata": {
        "colab": {
          "base_uri": "https://localhost:8080/"
        },
        "id": "C1XLtndzYN7c",
        "outputId": "b0ecdb60-f782-4edb-e680-4f26b01369b8"
      },
      "execution_count": 15,
      "outputs": [
        {
          "output_type": "stream",
          "name": "stdout",
          "text": [
            "media teórica:         10\n",
            "desviación teórica:    2\n",
            "media muestral:        9.9838\n",
            "desviación muestral:   2.0064\n"
          ]
        }
      ]
    },
    {
      "cell_type": "markdown",
      "source": [
        "##1.7 Histograma\n",
        "Debería tener forma de campana, similar a la d euna distribución normal"
      ],
      "metadata": {
        "id": "CdbLPRA1Y_7L"
      }
    },
    {
      "cell_type": "code",
      "source": [
        "plt.hist(normales, bins=50, density=True)\n",
        "plt.show()"
      ],
      "metadata": {
        "colab": {
          "base_uri": "https://localhost:8080/",
          "height": 430
        },
        "id": "4QIp7uv2ZOnV",
        "outputId": "d7a36d1b-edda-418a-8bf7-de73a2d739f3"
      },
      "execution_count": 18,
      "outputs": [
        {
          "output_type": "display_data",
          "data": {
            "text/plain": [
              "<Figure size 640x480 with 1 Axes>"
            ],
            "image/png": "[encoded data removed]"
          },
          "metadata": {}
        }
      ]
    }
  ]
}