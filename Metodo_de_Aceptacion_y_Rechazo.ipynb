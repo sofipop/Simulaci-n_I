{
  "nbformat": 4,
  "nbformat_minor": 0,
  "metadata": {
    "colab": {
      "provenance": [],
      "authorship_tag": "ABX9TyPBVJubOHAncnyCHKYqPxK/",
      "include_colab_link": true
    },
    "kernelspec": {
      "name": "python3",
      "display_name": "Python 3"
    },
    "language_info": {
      "name": "python"
    }
  },
  "cells": [
    {
      "cell_type": "markdown",
      "metadata": {
        "id": "view-in-github",
        "colab_type": "text"
      },
      "source": [
        "<a href=\"https://colab.research.google.com/github/sofipop/Simulaci-n_I/blob/main/Metodo_de_Aceptacion_y_Rechazo.ipynb\" target=\"_parent\"><img src=\"https://colab.research.google.com/assets/colab-badge.svg\" alt=\"Open In Colab\"/></a>"
      ]
    },
    {
      "cell_type": "markdown",
      "source": [
        "#MÉTODO DE ACEPTACION Y RECHAZO\n",
        "El código busca generar numeros aleatorios que sigan una distribución de acuerdo a una función de densidad\n"
      ],
      "metadata": {
        "id": "iIhTBTf6R66r"
      }
    },
    {
      "cell_type": "code",
      "execution_count": 2,
      "metadata": {
        "id": "v3h5-Nk-e_VM"
      },
      "outputs": [],
      "source": [
        "import random as rd\n",
        "import numpy as np\n",
        "import matplotlib.pyplot as plt"
      ]
    },
    {
      "cell_type": "markdown",
      "source": [
        "##1.1 Variables\n",
        "Definimos las variables que se necesitan para el método para la evolución de este:\n",
        "- a y b definen el rango de valores posibles para x\n",
        "- M es el valor máximo de la función de densidad."
      ],
      "metadata": {
        "id": "ZMP0OHWDVB4g"
      }
    },
    {
      "cell_type": "code",
      "source": [
        "a=0\n",
        "b=1\n",
        "M=2"
      ],
      "metadata": {
        "id": "wFw3GoYvfZ4d"
      },
      "execution_count": 1,
      "outputs": []
    },
    {
      "cell_type": "markdown",
      "source": [
        "##1.2 Definimos la función de densidad de probabilidad"
      ],
      "metadata": {
        "id": "dZ4izT9hnVI-"
      }
    },
    {
      "cell_type": "code",
      "source": [
        "def f(x):\n",
        "  return 2*x"
      ],
      "metadata": {
        "id": "6zpeVCNsfQzx"
      },
      "execution_count": 4,
      "outputs": []
    },
    {
      "cell_type": "markdown",
      "source": [
        "##1.3 Método de aceptación y rechazo\n",
        "-  Paso 1: generamos dos números aleatorioa R1 Y R2 entre [0,1]\n",
        "- Paso 2: Determinamos los valores candidatos para x: $$x=a+(b-a)R1$$\n",
        "- Paso 3: Comparamos R2 con $f(x)/M$, Si $$R2<= f(X)/M$$ se acepta x y se guarda en la lista\n"
      ],
      "metadata": {
        "id": "Gzyjl1iynpIc"
      }
    },
    {
      "cell_type": "code",
      "source": [
        "def aceptacion (n):\n",
        "  lista=[]\n",
        "  for _ in range(n):\n",
        "    R1=rd.random()\n",
        "    R2=rd.random()\n",
        "    x=a+((b-a)*R1)\n",
        "    if R2<=f(x)/M:\n",
        "      lista.append(x)\n",
        "  return lista"
      ],
      "metadata": {
        "id": "eiJioPxZff-v"
      },
      "execution_count": 5,
      "outputs": []
    },
    {
      "cell_type": "markdown",
      "source": [
        "##1.4 Generación de los números\n",
        "Mandamos a llamar a la función del método y lo hacemos funcionar \"n\" veces"
      ],
      "metadata": {
        "id": "n4VgNttCpjrA"
      }
    },
    {
      "cell_type": "code",
      "source": [
        "c=aceptacion(10000)"
      ],
      "metadata": {
        "id": "3xRdbNi1gv15"
      },
      "execution_count": 7,
      "outputs": []
    },
    {
      "cell_type": "markdown",
      "source": [
        "##1.5 Tamaño de la muestra\n",
        "Cuenta cuantos numeros fueron aceptados y guardados en la lista, esto da una idea de la eficiencia del método"
      ],
      "metadata": {
        "id": "5hi2rVEAp6Ls"
      }
    },
    {
      "cell_type": "code",
      "source": [
        "#print(c)\n",
        "len(c)"
      ],
      "metadata": {
        "colab": {
          "base_uri": "https://localhost:8080/"
        },
        "id": "1VCvt02cg-GZ",
        "outputId": "c06899dc-cb01-4890-8f29-fb4bc002df61"
      },
      "execution_count": 8,
      "outputs": [
        {
          "output_type": "execute_result",
          "data": {
            "text/plain": [
              "5010"
            ]
          },
          "metadata": {},
          "execution_count": 8
        }
      ]
    },
    {
      "cell_type": "markdown",
      "source": [
        "Calculamos estadísticos de los valores aceptados"
      ],
      "metadata": {
        "id": "ha8wxjS5sPD5"
      }
    },
    {
      "cell_type": "code",
      "source": [
        "print(np.var(c))"
      ],
      "metadata": {
        "colab": {
          "base_uri": "https://localhost:8080/"
        },
        "id": "TSNS08bZhvyN",
        "outputId": "9a1b5d53-2573-49be-d1aa-81537d0b99e0"
      },
      "execution_count": 9,
      "outputs": [
        {
          "output_type": "stream",
          "name": "stdout",
          "text": [
            "0.0546712228736587\n"
          ]
        }
      ]
    },
    {
      "cell_type": "code",
      "source": [
        "print(np.mean(c))"
      ],
      "metadata": {
        "colab": {
          "base_uri": "https://localhost:8080/"
        },
        "id": "DXFnp7luh8ej",
        "outputId": "5384d833-2d81-4e97-8038-9dae61879759"
      },
      "execution_count": 10,
      "outputs": [
        {
          "output_type": "stream",
          "name": "stdout",
          "text": [
            "0.6718125007983416\n"
          ]
        }
      ]
    },
    {
      "cell_type": "markdown",
      "source": [
        "##1.6 Histograma\n",
        "Generamos el histograma con los valores aceptados, donde se nota la forma creciente hacia la derecha (para esta función)"
      ],
      "metadata": {
        "id": "U1Iy4_92qkBG"
      }
    },
    {
      "cell_type": "code",
      "source": [
        "plt.hist(c, bins=50)\n",
        "plt.show()"
      ],
      "metadata": {
        "colab": {
          "base_uri": "https://localhost:8080/",
          "height": 430
        },
        "id": "3VI8IYeDhijQ",
        "outputId": "a93b0fdb-bbae-48dd-ea02-9b9ab39afe25"
      },
      "execution_count": 13,
      "outputs": [
        {
          "output_type": "display_data",
          "data": {
            "text/plain": [
              "<Figure size 640x480 with 1 Axes>"
            ],
            "image/png": "[encoded data removed]"
          },
          "metadata": {}
        }
      ]
    },
    {
      "cell_type": "markdown",
      "source": [
        "##Conclusión\n",
        "El código demuestra correctamente cómo funciona el método de Aceptación y Rechazo para generar números aleatorios que siguen una distribución deseada"
      ],
      "metadata": {
        "id": "xqg3DEOTsdib"
      }
    }
  ]
}